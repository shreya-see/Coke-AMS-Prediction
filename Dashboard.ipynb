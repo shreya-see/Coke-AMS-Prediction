{
 "cells": [
  {
   "cell_type": "code",
   "execution_count": 2,
   "id": "1f8bb536-1b05-4b26-b273-eef280ad381f",
   "metadata": {},
   "outputs": [
    {
     "data": {
      "application/vnd.jupyter.widget-view+json": {
       "model_id": "dbe84bec0c8b40499da64303dafde4d8",
       "version_major": 2,
       "version_minor": 0
      },
      "text/plain": [
       "VBox(children=(VBox(children=(FloatText(value=0.0, description='B10_AVG_BATTERY_TEMP_PS_10B:', layout=Layout(w…"
      ]
     },
     "metadata": {},
     "output_type": "display_data"
    }
   ],
   "source": [
    "import pandas as pd\n",
    "import numpy as np\n",
    "from sklearn.ensemble import RandomForestRegressor\n",
    "import ipywidgets as widgets\n",
    "from IPython.display import display, clear_output\n",
    "\n",
    "# Load your dataset and model here (replace with your actual dataset)\n",
    "df = pd.read_csv(\"Final_File.csv\")\n",
    "X = df[['B10_AVG_BATTERY_TEMP_PS_10B', 'B10_QUENCH_DUR_SEC_x', 'B10_TIME_TO_REACH_PEAK_POINT_x', 'B11_AVG_CHG_FORCE_y', 'B11_DURATION_EMPTY_OVENS_y', 'Blend_MAX_EXPANSION']]\n",
    "y = df['AMS_IBF']\n",
    "\n",
    "# Initialize the RandomForestRegressor model\n",
    "rf_regressor = RandomForestRegressor(random_state=42)\n",
    "rf_regressor.fit(X, y)\n",
    "\n",
    "# Function to categorize AMS value\n",
    "def get_ams_status(ams_value):\n",
    "    if ams_value <= 42.5:\n",
    "        return \"BAD AMS\"\n",
    "    elif 42.5 < ams_value <= 43:\n",
    "        return \"MID AMS\"\n",
    "    else:\n",
    "        return \"HIGH AMS\"\n",
    "\n",
    "# Function to predict AMS value\n",
    "def predict_ams(temp, quench_dur, time_to_peak, avg_chg_force, empty_ovens_dur, blend_expansion):\n",
    "    input_data = np.array([[temp, quench_dur, time_to_peak, avg_chg_force, empty_ovens_dur, blend_expansion]])\n",
    "    predicted_ams = rf_regressor.predict(input_data)[0]\n",
    "    return predicted_ams\n",
    "\n",
    "# Create input widgets for each feature\n",
    "temp_input = widgets.FloatText(value=0.0, description='B10_AVG_BATTERY_TEMP_PS_10B:', style={'description_width': 'initial'}, layout={'width': '300px'})\n",
    "quench_dur_input = widgets.FloatText(value=0.0, description='B10_QUENCH_DUR_SEC_x:', style={'description_width': 'initial'}, layout={'width': '300px'})\n",
    "time_to_peak_input = widgets.FloatText(value=0.0, description='B10_TIME_TO_REACH_PEAK_POINT_x:', style={'description_width': 'initial'}, layout={'width': '300px'})\n",
    "avg_chg_force_input = widgets.FloatText(value=0.0, description='B11_AVG_CHG_FORCE_y:', style={'description_width': 'initial'}, layout={'width': '300px'})\n",
    "empty_ovens_dur_input = widgets.FloatText(value=0.0, description='B11_DURATION_EMPTY_OVENS_y:', style={'description_width': 'initial'}, layout={'width': '300px'})\n",
    "blend_expansion_input = widgets.FloatText(value=0.0, description='Blend_MAX_EXPANSION:', style={'description_width': 'initial'}, layout={'width': '300px'})\n",
    "\n",
    "# Output widget for displaying predictions\n",
    "output = widgets.Output()\n",
    "\n",
    "# Button widget to trigger prediction\n",
    "predict_button = widgets.Button(description=\"Predict AMS\", button_style='info', tooltip='Click to predict AMS', layout={'width': '200px'})\n",
    "\n",
    "# Function to handle button click event\n",
    "def on_button_clicked(b):\n",
    "    with output:\n",
    "        clear_output()\n",
    "        try:\n",
    "            # Validate input values\n",
    "            if any(v == 0 for v in [temp_input.value, quench_dur_input.value, time_to_peak_input.value, avg_chg_force_input.value, empty_ovens_dur_input.value, blend_expansion_input.value]):\n",
    "                print(\"Error: All feature values must be non-zero.\")\n",
    "                return\n",
    "            \n",
    "            # Predict AMS value\n",
    "            predicted_ams = predict_ams(temp_input.value, quench_dur_input.value, time_to_peak_input.value, avg_chg_force_input.value, empty_ovens_dur_input.value, blend_expansion_input.value)\n",
    "            \n",
    "            # Get AMS status\n",
    "            ams_status = get_ams_status(predicted_ams)\n",
    "            \n",
    "            # Display predicted AMS and status\n",
    "            print(f'Predicted AMS: {predicted_ams:.2f}')\n",
    "            print(f'AMS Status: {ams_status}')\n",
    "        except ValueError:\n",
    "            print(\"Please enter valid numerical values for all fields.\")\n",
    "\n",
    "# Bind button click event to handler function\n",
    "predict_button.on_click(on_button_clicked)\n",
    "\n",
    "# Arrange widgets using VBox and display them\n",
    "inputs = widgets.VBox([temp_input, quench_dur_input, time_to_peak_input, avg_chg_force_input, empty_ovens_dur_input, blend_expansion_input])\n",
    "display(widgets.VBox([inputs, widgets.HBox([predict_button]), output]))\n"
   ]
  },
  {
   "cell_type": "code",
   "execution_count": null,
   "id": "7058f593-7a75-4908-8367-d26d5313d27f",
   "metadata": {},
   "outputs": [],
   "source": []
  }
 ],
 "metadata": {
  "kernelspec": {
   "display_name": "Python 3 (ipykernel)",
   "language": "python",
   "name": "python3"
  },
  "language_info": {
   "codemirror_mode": {
    "name": "ipython",
    "version": 3
   },
   "file_extension": ".py",
   "mimetype": "text/x-python",
   "name": "python",
   "nbconvert_exporter": "python",
   "pygments_lexer": "ipython3",
   "version": "3.11.5"
  }
 },
 "nbformat": 4,
 "nbformat_minor": 5
}
